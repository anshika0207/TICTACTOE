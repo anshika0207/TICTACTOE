{
 "cells": [
  {
   "cell_type": "code",
   "execution_count": null,
   "metadata": {},
   "outputs": [
    {
     "name": "stdout",
     "output_type": "stream",
     "text": [
      "WELCOME TO ANSHIKA'S TIC TAC TOE\n"
     ]
    }
   ],
   "source": [
    "print(\"WELCOME TO ANSHIKA'S TIC TAC TOE\")\n",
    "while True: \n",
    "    def display(board):\n",
    "        print(  board[7] + '|' + board[8] + '|' + board[9])\n",
    "        print('-----')\n",
    "        print(  board[4] + '|' + board[5] + '|' + board[6])\n",
    "        print('-----')\n",
    "        print(  board[1] + '|' + board[2] + '|' + board[3])\n",
    "        \n",
    "        \n",
    "        \n",
    "        \n",
    "    p1=input('Enter your marker \"X\" or \"O\": ')\n",
    "    if p1=='X':\n",
    "        p2='O'\n",
    "    else:\n",
    "        p2='X'\n",
    "    print('The game starts now!Enter location: ')\n",
    "    l=['#',' ',' ',' ',' ',' ',' ',' ',' ',' ']\n",
    "  \n",
    "\n",
    "\n",
    "    import random\n",
    "\n",
    "    def turn():\n",
    "        toss=random.randint(0,1)\n",
    "        if toss==1:\n",
    "            return p1\n",
    "        else:\n",
    "            return p2\n",
    "    marker=turn()\n",
    "    print(marker + ' will go first')\n",
    "    \n",
    "    for c in range (1,9):\n",
    "        if marker==p1:\n",
    "            if c%2!=0:\n",
    "                pointer=p1\n",
    "            else:\n",
    "                pointer=p2\n",
    "        else:\n",
    "            if c%2!=0:\n",
    "                pointer=p2\n",
    "            else:\n",
    "                pointer=p1\n",
    "        l[int(input())]=pointer\n",
    "        display(l)\n",
    "        \n",
    "        def win_check(board,marker):\n",
    "            return ((board[7] == marker and board[8] == marker and board[9] == marker) or # across the top\n",
    "            (board[4] == marker and board[5] == marker and board[6] == marker) or # across the middle\n",
    "            (board[1] == marker and board[2] == marker and board[3] == marker) or # across the bottom\n",
    "            (board[7] == marker and board[4] == marker and board[1] == marker) or # down the middle\n",
    "            (board[8] == marker and board[5] == marker and board[2] == marker) or # down the middle\n",
    "            (board[9] == marker and board[6] == marker and board[3] == marker) or # down the right side\n",
    "            (board[7] == marker and board[5] == marker and board[3] == marker) or # diagonal\n",
    "            (board[9] == marker and board[5] == marker and board[1] == marker))# diagonal\n",
    "        if win_check(l,pointer)==True:\n",
    "            print('GAME OVER!')\n",
    "            print(f'The winner is {pointer}')\n",
    "            break\n",
    "            \n",
    "    ans=input('Do you want to play the game again??Y OR N')\n",
    "    if ans.lower()=='y':\n",
    "        True\n",
    "    else:\n",
    "        break\n",
    "    "
   ]
  },
  {
   "cell_type": "code",
   "execution_count": null,
   "metadata": {},
   "outputs": [],
   "source": []
  }
 ],
 "metadata": {
  "kernelspec": {
   "display_name": "Python 3",
   "language": "python",
   "name": "python3"
  },
  "language_info": {
   "codemirror_mode": {
    "name": "ipython",
    "version": 3
   },
   "file_extension": ".py",
   "mimetype": "text/x-python",
   "name": "python",
   "nbconvert_exporter": "python",
   "pygments_lexer": "ipython3",
   "version": "3.7.6"
  }
 },
 "nbformat": 4,
 "nbformat_minor": 4
}
